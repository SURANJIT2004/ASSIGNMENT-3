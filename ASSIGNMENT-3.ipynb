{
 "cells": [
  {
   "cell_type": "code",
   "execution_count": 1,
   "id": "985d080c",
   "metadata": {},
   "outputs": [
    {
     "name": "stdout",
     "output_type": "stream",
     "text": [
      "Enter the no.6589\n",
      "First greatest digit:  9\n",
      "Second greatest digit: 8\n",
      "Third greatest digit:  6\n"
     ]
    }
   ],
   "source": [
    "def find_top_digits(number):\n",
    "    num_str = str(number)\n",
    "    sorted_digits = sorted(num_str, reverse=True)\n",
    "    first_digit = int(sorted_digits[0])\n",
    "    second_digit = int(sorted_digits[1])\n",
    "    third_digit = int(sorted_digits[2])\n",
    "    return first_digit, second_digit, third_digit\n",
    "\n",
    "number= int(input(\"Enter the no.\"))\n",
    "first, second, third = find_top_digits(number)\n",
    "print(\"First greatest digit: \" ,first)\n",
    "print(\"Second greatest digit:\" ,second)\n",
    "print(\"Third greatest digit: \" , third)\n"
   ]
  },
  {
   "cell_type": "code",
   "execution_count": 2,
   "id": "9fd2d4cf",
   "metadata": {},
   "outputs": [
    {
     "name": "stdout",
     "output_type": "stream",
     "text": [
      "105 120 135 150 165 180 195 210 225 240 255 270 285 300 315 330 345 360 375 390 405 420 435 450 465 480 495 None\n"
     ]
    }
   ],
   "source": [
    "def num():\n",
    "    for i in range (100,501):\n",
    "        if i%3==0 and i%5==0:\n",
    "             print(i ,end=' ') \n",
    "print(num())        "
   ]
  },
  {
   "cell_type": "code",
   "execution_count": 3,
   "id": "2588a6e9",
   "metadata": {},
   "outputs": [
    {
     "name": "stdout",
     "output_type": "stream",
     "text": [
      "22100\n"
     ]
    }
   ],
   "source": [
    "def addofsquarenumbres():\n",
    "    num=0\n",
    "    for i in range (1,51):\n",
    "        if i%2==0:\n",
    "            num+=pow(i,2)\n",
    "    return num\n",
    "\n",
    "print(addofsquarenumbres())"
   ]
  },
  {
   "cell_type": "code",
   "execution_count": 1,
   "id": "4eab75a3",
   "metadata": {},
   "outputs": [
    {
     "name": "stdout",
     "output_type": "stream",
     "text": [
      "Enter the lower bound of the range: 56\n",
      "Enter the upper bound of the range: 59\n",
      "Guess a number between 56 and 59: 58\n",
      "Try again!\n",
      "Guess a number between 56 and 59: 56\n",
      "Try again!\n",
      "Guess a number between 56 and 59: 57\n",
      "Try again!\n",
      "Guess a number between 56 and 59: 58\n",
      "Try again!\n",
      "Guess a number between 56 and 59: 59\n",
      "Correctly guessed!\n"
     ]
    }
   ],
   "source": [
    "import random\n",
    "\n",
    "def guess_the_number(lower_bound, upper_bound):\n",
    "    secret_number = random.randint(lower_bound, upper_bound)\n",
    "    while True:\n",
    "        try:\n",
    "            guess = int(input(f\"Guess a number between {lower_bound} and {upper_bound}: \"))\n",
    "        except ValueError:\n",
    "            print(\"Invalid input. Please enter an integer.\")\n",
    "            continue\n",
    "\n",
    "        if guess < lower_bound or guess > upper_bound:\n",
    "            print(f\"Out of range. Please guess between {lower_bound} and {upper_bound}.\")\n",
    "        elif guess == secret_number:\n",
    "            print(\"Correctly guessed!\")\n",
    "            break\n",
    "        else:\n",
    "            print(\"Try again!\")\n",
    "\n",
    "lower_bound = int(input(\"Enter the lower bound of the range: \"))\n",
    "upper_bound = int(input(\"Enter the upper bound of the range: \"))\n",
    "\n",
    "guess_the_number(lower_bound, upper_bound)\n"
   ]
  },
  {
   "cell_type": "code",
   "execution_count": 1,
   "id": "20debc63",
   "metadata": {},
   "outputs": [
    {
     "name": "stdout",
     "output_type": "stream",
     "text": [
      "Enter the value56\n",
      "Enter the value99\n",
      "0 1 2 3 4 5 6 7 8 9 10 11 12 13 14 15 16 17 18 19 20 21 22 23 24 25 26 27 28 29 30 31 32 33 34 35 36 37 38 39 40 41 42 43 44 45 46 47 48 49 50 51 52 53 54 55 57 58 59 60 61 62 63 64 65 66 67 68 69 70 71 72 73 74 75 76 77 78 79 80 81 82 83 84 85 86 87 88 89 90 91 92 93 94 95 96 97 98 100 \n"
     ]
    }
   ],
   "source": [
    "a=int(input(\"Enter the value : \"))\n",
    "b=int(input(\"Enter the value : \"))\n",
    "for x in range(0,101):\n",
    "    if (x == a or x == b):\n",
    "         continue\n",
    "    print(x, end=' ')\n",
    "print()"
   ]
  },
  {
   "cell_type": "code",
   "execution_count": 3,
   "id": "f851260c",
   "metadata": {},
   "outputs": [
    {
     "name": "stdout",
     "output_type": "stream",
     "text": [
      "enter the alphabetd\n",
      "CONSONANT\n"
     ]
    }
   ],
   "source": [
    "alphabet=['a','e','i','o','u','A','E','I','O','U']\n",
    "Usser_guess=input(\"enter the alphabet\")\n",
    "if Usser_guess in alphabet:\n",
    "    print(\"Vowel\")\n",
    "else:\n",
    "    print(\"CONSONANT\")"
   ]
  },
  {
   "cell_type": "code",
   "execution_count": 4,
   "id": "6bd946fe",
   "metadata": {},
   "outputs": [
    {
     "name": "stdout",
     "output_type": "stream",
     "text": [
      "Enter the name of the month: january\n",
      "January has 31 days.\n"
     ]
    }
   ],
   "source": [
    "def days_in_month(month_name): \n",
    "    month_days = {\"january\": 31,\"february\": 28,\"march\": 31,\"april\": 30,\"may\": 31, \"june\": 30, \"july\": 31,\"august\": 31, \"september\": 30, \"october\": 31, \"november\": 30, \"december\": 31 }\n",
    "    month_name = month_name.lower()  # Convert month name to lowercase for case-insensitive comparison\n",
    "    if month_name in month_days:\n",
    "        if month_name == \"february\":  # Check for leap year\n",
    "            if year % 4 == 0 and (year % 100 != 0 or year % 400 == 0):\n",
    "                return 29\n",
    "            else:\n",
    "                return 28\n",
    "        else:\n",
    "            return month_days[month_name]\n",
    "    else:\n",
    "        return None\n",
    "\n",
    "\n",
    "month_name = input(\"Enter the name of the month: \")\n",
    "\n",
    "# Get number of days\n",
    "days = days_in_month(month_name)\n",
    "\n",
    "if days is not None:\n",
    "    print(f\"{month_name.capitalize()} has {days} days.\")  # Capitalize the first letter of the month\n",
    "else:\n",
    "    print(f\"Invalid month name: {month_name}\")\n"
   ]
  },
  {
   "cell_type": "code",
   "execution_count": 1,
   "id": "d50ef705",
   "metadata": {},
   "outputs": [
    {
     "name": "stdout",
     "output_type": "stream",
     "text": [
      "1\n",
      "2\n",
      "Hello\n",
      "4\n",
      "Hi\n",
      "Hello\n",
      "7\n",
      "8\n",
      "Hello\n",
      "Hi\n",
      "11\n",
      "Hello\n",
      "13\n",
      "14\n",
      "HelloHi\n",
      "16\n",
      "17\n",
      "Hello\n",
      "19\n",
      "Hi\n",
      "Hello\n",
      "22\n",
      "23\n",
      "Hello\n",
      "Hi\n",
      "26\n",
      "Hello\n",
      "28\n",
      "29\n",
      "HelloHi\n",
      "31\n",
      "32\n",
      "Hello\n",
      "34\n",
      "Hi\n",
      "Hello\n",
      "37\n",
      "38\n",
      "Hello\n",
      "Hi\n",
      "41\n",
      "Hello\n",
      "43\n",
      "44\n",
      "HelloHi\n",
      "46\n",
      "47\n",
      "Hello\n",
      "49\n",
      "Hi\n"
     ]
    }
   ],
   "source": [
    "for num in range(1, 51):\n",
    "    if num % 15 == 0:  # Check for divisibility by both 3 and 5 first\n",
    "        print(\"HelloHi\")\n",
    "    elif num % 3 == 0:\n",
    "        print(\"Hello\")\n",
    "    elif num % 5 == 0:\n",
    "        print(\"Hi\")\n",
    "    else:\n",
    "        print(num)"
   ]
  },
  {
   "cell_type": "code",
   "execution_count": 8,
   "id": "33a060e4",
   "metadata": {},
   "outputs": [
    {
     "name": "stdout",
     "output_type": "stream",
     "text": [
      "Enter the first number: 5\n",
      "Enter the second number: 8\n",
      "Enter the third number: 9\n",
      "The median of 5.0 8.0 and 9.0 is : 8.0\n"
     ]
    }
   ],
   "source": [
    "def find_median(num1, num2, num3):\n",
    "    numbers = sorted([num1, num2, num3])\n",
    "    middle_index = len(numbers) // 2\n",
    "    return numbers[middle_index]\n",
    "\n",
    "x = float(input(\"Enter the first number: \"))\n",
    "y = float(input(\"Enter the second number: \"))\n",
    "z = float(input(\"Enter the third number: \"))\n",
    "\n",
    "median = find_median(x, y, z)\n",
    "\n",
    "print(\"The median of\", x, y, \"and\" , z, \"is :\", median)\n"
   ]
  },
  {
   "cell_type": "code",
   "execution_count": 1,
   "id": "0fcaaa15",
   "metadata": {},
   "outputs": [
    {
     "name": "stdout",
     "output_type": "stream",
     "text": [
      "9\n",
      "Enter how many days after: 9\n",
      "The date is [yyyy-mm-dd]: 2024-03-18\n",
      "Day is: Monday\n"
     ]
    }
   ],
   "source": [
    "from datetime import date, timedelta\n",
    "today = date.today()\n",
    "day=today.day\n",
    "days_to_add = int(input(\"Enter how many days after: \"))\n",
    "future_date = today + timedelta(days=days_to_add)\n",
    "day_of_week = future_date.strftime(\"%A\")  # Full weekday name (e.g., Thursday)\n",
    "print(\"The date is [yyyy-mm-dd]:\", future_date)\n",
    "print(\"Day is:\", day_of_week)\n"
   ]
  },
  {
   "cell_type": "code",
   "execution_count": 4,
   "id": "c7483d57",
   "metadata": {},
   "outputs": [
    {
     "name": "stdout",
     "output_type": "stream",
     "text": [
      "Enter how many days after: 9\n",
      "Today's date is [yyyy-mm-dd]: 2024-03-09\n",
      "Today's Day: Saturday\n",
      "The date is [yyyy-mm-dd]: 2024-03-18\n",
      "Day is: Monday\n"
     ]
    }
   ],
   "source": [
    "from datetime import date, timedelta\n",
    "\n",
    "def get_future_date(today, num_days):\n",
    "  \n",
    "    future_date = today + timedelta(days=num_days)\n",
    "    day_of_week = future_date.strftime(\"%A\")  # Get day of the week as a string (e.g., \"Thursday\")\n",
    "    return future_date, day_of_week\n",
    "today = date.today()\n",
    "today_day = today.strftime(\"%A\")\n",
    "num_days = int(input(\"Enter how many days after: \"))\n",
    "future_date, future_day = get_future_date(today, num_days)\n",
    "print(f\"Today's date is [yyyy-mm-dd]: {today}\")\n",
    "print(f\"Today's Day: {today_day}\")\n",
    "print(f\"The date is [yyyy-mm-dd]: {future_date}\")\n",
    "print(f\"Day is: {future_day}\")\n"
   ]
  },
  {
   "cell_type": "code",
   "execution_count": 5,
   "id": "bbbcbdac",
   "metadata": {},
   "outputs": [
    {
     "name": "stdout",
     "output_type": "stream",
     "text": [
      "Enter the the number of terms : 2\n",
      "The sum of the series is :  1.5\n"
     ]
    }
   ],
   "source": [
    "n=int(input(\"Enter the the number of terms : \"))\n",
    "sum=0\n",
    "for i in range(1,n+1):\n",
    "    sum=sum+(1/i)\n",
    "print(\"The sum of the series is : \" , round( sum,2))"
   ]
  },
  {
   "cell_type": "code",
   "execution_count": null,
   "id": "4d7ec5bf",
   "metadata": {},
   "outputs": [],
   "source": [
    "import math\n",
    "x=int(input(\"Enter the value of x :\"))\n",
    "y=int(input(\"Enter the value of y :\"))\n",
    "z=math.pow(x,y)\n",
    "print(z)"
   ]
  },
  {
   "cell_type": "code",
   "execution_count": 6,
   "id": "971201f9",
   "metadata": {},
   "outputs": [
    {
     "name": "stdout",
     "output_type": "stream",
     "text": [
      "Enter the value of x : 2\n",
      "Enter the value of y : 2\n",
      "2 raised to the power of 2 (recursive): 4\n"
     ]
    }
   ],
   "source": [
    "def power_recursive(x, y):\n",
    "    if y == 0:\n",
    "        return 1\n",
    "    else:\n",
    "        return x * power_recursive(x, y - 1)\n",
    "\n",
    "x = int(input(\"Enter the value of x : \"))\n",
    "y = int(input(\"Enter the value of y : \"))\n",
    "result = power_recursive(x, y)\n",
    "print(f\"{x} raised to the power of {y} (recursive): {result}\")\n"
   ]
  },
  {
   "cell_type": "code",
   "execution_count": 7,
   "id": "b8500d8b",
   "metadata": {},
   "outputs": [
    {
     "name": "stdout",
     "output_type": "stream",
     "text": [
      "Enter the Number : 1234\n",
      "The sum of the digits in 1234 is: 10\n"
     ]
    }
   ],
   "source": [
    "def sum_of_digits(n):\n",
    "    if n == 0:\n",
    "        return 0\n",
    "    else:\n",
    "        return n % 10 + sum_of_digits(n // 10)\n",
    "\n",
    "\n",
    "number = int(input(\"Enter the Number : \"))\n",
    "result = sum_of_digits(number)\n",
    "print(f\"The sum of the digits in {number} is: {result}\")\n"
   ]
  },
  {
   "cell_type": "code",
   "execution_count": 9,
   "id": "d7a78af9",
   "metadata": {},
   "outputs": [
    {
     "name": "stdout",
     "output_type": "stream",
     "text": [
      "3\n"
     ]
    }
   ],
   "source": [
    "def count_local_variables(func):\n",
    "    code = func.__code__\n",
    "    nlocals = code.co_nlocals\n",
    "    return nlocals\n",
    "def add_numbers(a, b):\n",
    "    sum = a + b\n",
    "    return sum\n",
    "num_local_variables = count_local_variables(add_numbers)\n",
    "print(num_local_variables)"
   ]
  },
  {
   "cell_type": "code",
   "execution_count": null,
   "id": "b5c2e0c2",
   "metadata": {},
   "outputs": [],
   "source": [
    "import re\n",
    "password = input(\"Enter the password :\")\n",
    "flag = 0\n",
    "while True:\n",
    "    if (len(password)<=8):\n",
    "        flag = -1\n",
    "        break\n",
    "    elif not re.search(\"[a-z]\", password):\n",
    "        flag = -1\n",
    "        break\n",
    "    elif not re.search(\"[A-Z]\", password):\n",
    "        flag = -1\n",
    "        break\n",
    "    elif not re.search(\"[0-9]\", password):\n",
    "        flag = -1\n",
    "        break\n",
    "    elif not re.search(\"[_@$]\" , password):\n",
    "        flag = -1\n",
    "        break\n",
    "    elif re.search(\"\\s\" , password):\n",
    "        flag = -1\n",
    "        break\n",
    "    else:\n",
    "        flag = 0\n",
    "        print(\"Valid Password\")\n",
    "        break\n",
    " \n",
    " if flag == -1:\n",
    "    print(\"Not a Valid Password \")"
   ]
  },
  {
   "cell_type": "code",
   "execution_count": 14,
   "id": "ad564e45",
   "metadata": {},
   "outputs": [
    {
     "name": "stdout",
     "output_type": "stream",
     "text": [
      "Enter your password: Suranjit@2004\n",
      "Password is valid!\n"
     ]
    }
   ],
   "source": [
    "import re\n",
    "\n",
    "def validate_password(password):\n",
    "    if len(password) < 10 or len(password) > 16:\n",
    "        return False\n",
    "    uppercase_pattern = r\"[A-Z]\"\n",
    "    lowercase_pattern = r\"[a-z]\"\n",
    "    digit_pattern = r\"\\d\"\n",
    "    special_char_pattern = r\"[^\\@\\# ]\"  \n",
    "    if not re.search(uppercase_pattern, password):\n",
    "        return False\n",
    "    if not re.search(lowercase_pattern, password):\n",
    "        return False\n",
    "    if not re.search(digit_pattern, password):\n",
    "        return False\n",
    "    if not re.search(special_char_pattern, password):\n",
    "        return False\n",
    "    else:\n",
    "        return True\n",
    "password = input(\"Enter your password: \")\n",
    "\n",
    "\n",
    "if validate_password(password):\n",
    "    print(\"Password is valid!\")\n",
    "else:\n",
    "    print(\"Password is invalid. Please ensure it meets the following criteria:\")\n",
    "    print(\"- Minimum length of 8 characters\")\n",
    "    print(\"- Maximum length of 12 characters\")\n",
    "    print(\"- Contains at least one uppercase letter\")\n",
    "    print(\"- Contains at least one lowercase letter\")\n",
    "    print(\"- Contains at least one digit\")\n",
    "    print(\"- Contains at least one special character\")\n"
   ]
  },
  {
   "cell_type": "code",
   "execution_count": 15,
   "id": "109a91ca",
   "metadata": {},
   "outputs": [
    {
     "name": "stdout",
     "output_type": "stream",
     "text": [
      "Enter a number : 25\n",
      "Display the result After Specific milisecond : 25\n",
      "Calculating square root of 25.0 in 25 milliseconds...\n",
      "The square root of 25.0 is: 5.0\n"
     ]
    }
   ],
   "source": [
    "import time\n",
    "import math\n",
    "\n",
    "def calculate_square_root(number, delay_ms):\n",
    "    if number < 0:\n",
    "        print(\"Error: Square root is not defined for negative numbers.\")\n",
    "        return\n",
    "\n",
    "    print(f\"Calculating square root of {number} in {delay_ms} milliseconds...\")\n",
    "    time.sleep(delay_ms / 1000)   k\n",
    "    result = math.sqrt(number)\n",
    "    print(f\"The square root of {number} is: {result}\")\n",
    "\n",
    "\n",
    "number = float(input(\"Enter a number : \"))\n",
    "delay_ms = int(input(\"Display the result After Specific milisecond : \"))\n",
    "\n",
    "\n",
    "calculate_square_root(number, delay_ms)\n"
   ]
  },
  {
   "cell_type": "code",
   "execution_count": null,
   "id": "367f3554",
   "metadata": {},
   "outputs": [],
   "source": [
    "def num():\n",
    "    for i in range (100,501):\n",
    "        if i%3==0 and i%5==0:\n",
    "             print(i , end=' ')       \n",
    "print(num())                "
   ]
  },
  {
   "cell_type": "code",
   "execution_count": 10,
   "id": "99218513",
   "metadata": {},
   "outputs": [
    {
     "name": "stdout",
     "output_type": "stream",
     "text": [
      "5\n"
     ]
    }
   ],
   "source": [
    "def fun(): \n",
    "    a = 1\n",
    "    str_1 = 'Suranjit'\n",
    "    b=2.0\n",
    "    c=2+7j\n",
    "    d=6\n",
    "print(fun.__code__.co_nlocals)"
   ]
  },
  {
   "cell_type": "code",
   "execution_count": 3,
   "id": "c8da176d",
   "metadata": {},
   "outputs": [
    {
     "name": "stdout",
     "output_type": "stream",
     "text": [
      "Enter the number of days: 5\n",
      "The date after 5 days will be Thursday, 2024-03-14\n"
     ]
    }
   ],
   "source": [
    "from datetime import date, timedelta\n",
    "today = date.today()\n",
    "\n",
    "# Get the number of days from the user (handle potential errors)\n",
    "while True:\n",
    "    try:\n",
    "        num_days = int(input(\"Enter the number of days: \"))\n",
    "        break\n",
    "    except ValueError:\n",
    "        print(\"Invalid input. Please enter a whole number of days.\")\n",
    "\n",
    "# Calculate the future date by adding the number of days as a timedelta object\n",
    "future_date = today + timedelta(days=num_days)\n",
    "\n",
    "# Get the day of the week for the future date\n",
    "day_of_week = future_date.strftime(\"%A\")\n",
    "\n",
    "# Print the result\n",
    "print(f\"The date after {num_days} days will be {day_of_week}, {future_date.strftime('%Y-%m-%d')}\")\n"
   ]
  }
 ],
 "metadata": {
  "kernelspec": {
   "display_name": "Python 3 (ipykernel)",
   "language": "python",
   "name": "python3"
  },
  "language_info": {
   "codemirror_mode": {
    "name": "ipython",
    "version": 3
   },
   "file_extension": ".py",
   "mimetype": "text/x-python",
   "name": "python",
   "nbconvert_exporter": "python",
   "pygments_lexer": "ipython3",
   "version": "3.11.5"
  }
 },
 "nbformat": 4,
 "nbformat_minor": 5
}
